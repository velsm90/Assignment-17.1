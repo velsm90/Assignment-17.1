{
 "cells": [
  {
   "cell_type": "code",
   "execution_count": 42,
   "metadata": {},
   "outputs": [
    {
     "name": "stdout",
     "output_type": "stream",
     "text": [
      "The probability to answer exactly five questions wrongly is: 3.4264958230778575e-06\n"
     ]
    }
   ],
   "source": [
    "# Question: A test is conducted which is consisting of 20 MCQs (multiple choices questions) with\n",
    "#every MCQ having its four options out of which only one is correct. Determine the\n",
    "#probability that a person undertaking that test has answered exactly 5 questions wrong.\n",
    "\n",
    "# Import libraries\n",
    "import numpy as np\n",
    "import pandas as pd\n",
    "import math\n",
    "\n",
    "n= 20 # Number of questions\n",
    "w = 5 # Number of wrong questions\n",
    "\n",
    "s = 1/4 # Probability of giving right answer is 1/4 \n",
    "s1 = 1-s # Probability of giving wrong answer is s-1\n",
    "\n",
    "def fact(number, end,fact_num): # Function to find factorial\n",
    "    while end != 0:\n",
    "        fact_num = fact_num * number\n",
    "        end = end -1\n",
    "        number = number -1\n",
    "        #print(fact_num,end)\n",
    "    return fact_num\n",
    "\n",
    "c = fact(20,5,1)/math.factorial(5)\n",
    "a = (s**15)\n",
    "b = (s1**5)\n",
    "p = c * a * b  # C(20*19*18*17*16) * (1/4)**15 * (3/4)**5\n",
    "print(\"The probability to answer exactly five questions wrongly is:\",p)"
   ]
  },
  {
   "cell_type": "code",
   "execution_count": null,
   "metadata": {},
   "outputs": [],
   "source": []
  }
 ],
 "metadata": {
  "kernelspec": {
   "display_name": "Python 3",
   "language": "python",
   "name": "python3"
  },
  "language_info": {
   "codemirror_mode": {
    "name": "ipython",
    "version": 3
   },
   "file_extension": ".py",
   "mimetype": "text/x-python",
   "name": "python",
   "nbconvert_exporter": "python",
   "pygments_lexer": "ipython3",
   "version": "3.6.4"
  }
 },
 "nbformat": 4,
 "nbformat_minor": 2
}
